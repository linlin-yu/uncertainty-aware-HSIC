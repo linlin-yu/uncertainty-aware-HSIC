{
 "cells": [
  {
   "cell_type": "code",
   "execution_count": null,
   "metadata": {},
   "outputs": [],
   "source": [
    "import os\n",
    "from torch_geometric.data.lightning import LightningNodeData\n",
    "from utils.utils import load_data, load_ood_data\n",
    "from utils.yaml import read_yaml_file\n",
    "import plotly.figure_factory as ff\n",
    "import numpy as np\n",
    "import matplotlib.pyplot as plt\n",
    "import plotly.graph_objects as go\n",
    "from sklearn.manifold import TSNE\n",
    "import torch\n",
    "from data.data_utils import DatasetInfo\n",
    "import pandas as pd\n",
    "import math\n",
    "from plotly.subplots import make_subplots\n",
    "from utils.plot import plot_abundance, plot_vacuity\n",
    "import plotly.express as px\n",
    "from GKDE_ood import DBU_OOD\n",
    "from gpn_ood import GPN_OOD\n",
    "from scipy import io as scio\n",
    "from sklearn.metrics import roc_curve, precision_recall_curve, auc"
   ]
  },
  {
   "cell_type": "code",
   "execution_count": null,
   "metadata": {},
   "outputs": [],
   "source": [
    "root = 'saved_models'\n",
    "model_names = ['Ground truth', 'TLRSR', 'RGAE',\n",
    "               'GKDE', 'GKDE-UR', 'GKDE-UR-TV',\n",
    "               'GPN', 'GPN-UR', 'GPN-UR-TV']\n"
   ]
  },
  {
   "cell_type": "code",
   "execution_count": null,
   "metadata": {},
   "outputs": [],
   "source": [
    "# paviau - 8\n",
    "dataset = 'paviaU'\n",
    "ood = 8\n",
    "sigma = 0.5\n",
    "vacuity_list = []\n",
    "TLRSR_file = 'anomaly_score_0.200_0.010'\n",
    "RGAE_file = 'anomaly_score_0.1000_100_120'\n",
    "GKDE_files = ['runs-ood-GCNExp/GCNExp_1_0_0-111-v1.ckpt', 'runs-ood-GCNExp-UR/GCNExp_1_0.01_0-111-v1.ckpt','runs-ood-GCNExp-URTV/GCNExp_1_0.0001_1e-05-0-v1.ckpt']\n",
    "GPN_files =  ['runs-ood-GPN/GPN_1_0_0-222.ckpt', 'runs-ood-GPN-UR/GPN_1_0.001_0-333.ckpt', 'runs-ood-GPN-URTV/GPN_1_0.0001_1e-05-0.ckpt']"
   ]
  },
  {
   "cell_type": "code",
   "execution_count": null,
   "metadata": {},
   "outputs": [],
   "source": [
    "# # KSC - 7\n",
    "# dataset = 'KSC'\n",
    "# ood = 7\n",
    "# sigma = 0.5\n",
    "# vacuity_list = []\n",
    "# TLRSR_file = 'anomaly_score_0.001_0.010'\n",
    "# RGAE_file = 'anomaly_score_0.1000_150_40'\n",
    "# GKDE_files = ['runs-ood-GCNExp/GCNExp_1_0_0-333.ckpt', 'runs-ood-GCNExp-UR/GCNExp_1_0.001_0-111-v1.ckpt','runs-ood-GCNExp-URTV/GCNExp_1_0.001_1e-05-0.ckpt']\n",
    "# GPN_files =  ['runs-ood-GPN/GPN_1_0_0-222-v1.ckpt', 'runs-ood-GPN-UR/GPN_1_1_0-222-v1.ckpt', 'runs-ood-GPN-URTV/GPN_1_1_1e-05-333-v1.ckpt']"
   ]
  },
  {
   "cell_type": "code",
   "execution_count": null,
   "metadata": {},
   "outputs": [],
   "source": [
    "# # KSC - 6\n",
    "# dataset = 'KSC'\n",
    "# ood = 6\n",
    "# sigma = 0.5\n",
    "# vacuity_list = []\n",
    "# TLRSR_file = 'anomaly_score_0.010_0.001'\n",
    "# RGAE_file = 'anomaly_score_0.1000_150_160'\n",
    "# GKDE_files = ['runs-ood-GCNExp/GCNExp_1_0_0-111-v1.ckpt', 'runs-ood-GCNExp-UR/GCNExp_1_0.001_0-333-v1.ckpt','runs-ood-GCNExp-URTV/GCNExp_1_0.01_0.001-333-v1.ckpt']\n",
    "# GPN_files =  ['runs-ood-GPN/GPN_1_0_0-222.ckpt', 'runs-ood-GPN-UR/GPN_1_1_0-333-v1.ckpt', 'runs-ood-GPN-URTV/GPN_1_1_0.001-333.ckpt']"
   ]
  },
  {
   "cell_type": "code",
   "execution_count": null,
   "metadata": {},
   "outputs": [],
   "source": [
    "# # Houston - 0\n",
    "# dataset = 'Houston'\n",
    "# ood = 0\n",
    "# sigma = 0.2\n",
    "# vacuity_list = []\n",
    "# TLRSR_file = 'anomaly_score_0.200_0.001'\n",
    "# RGAE_file = 'anomaly_score_0.1000_150_80'\n",
    "# GKDE_files = ['runs-ood-GCNExp/GCNExp_1_0_0-333-v1.ckpt', 'runs-ood-GCNExp-UR/GCNExp_1_0.0001_0-333-v1.ckpt','runs-ood-GCNExp-URTV/GCNExp_1_0.001_0.0001-444.ckpt']\n",
    "# GPN_files =  ['runs-ood-GPN/GPN_1_0_0-444.ckpt', 'runs-ood-GPN-UR/GPN_1_0.001_0-222-v1.ckpt', 'runs-ood-GPN-URTV/GPN_1_1e-05_1e-05-444.ckpt']"
   ]
  },
  {
   "cell_type": "code",
   "execution_count": null,
   "metadata": {},
   "outputs": [],
   "source": [
    "dataset = 'paviaU'\n",
    "ood = 8"
   ]
  },
  {
   "cell_type": "markdown",
   "metadata": {},
   "source": [
    "## load data"
   ]
  },
  {
   "cell_type": "code",
   "execution_count": null,
   "metadata": {},
   "outputs": [],
   "source": [
    "datasetinfo = DatasetInfo(dataset)\n",
    "# load config\n",
    "config = read_yaml_file(path='', directory='configs', file_name=f'ood_config_{dataset.lower()}')\n",
    "config['data']['ood_left_out_classes'] = [ood,]\n",
    "data, num_classes = load_ood_data(config['data'])\n",
    "datamodule = LightningNodeData(data, loader='full', batch_size = 1)"
   ]
  },
  {
   "cell_type": "code",
   "execution_count": null,
   "metadata": {},
   "outputs": [],
   "source": [
    "## load alpha teacher\n",
    "sigma = 0.5\n",
    "data.alpha_prior = torch.load(f'teacher/alpha_prior_tuning/alpha_teacher_{config[\"data\"][\"dataset\"]}_{config[\"data\"][\"ood_left_out_classes\"][0]}_{sigma}.pt')"
   ]
  },
  {
   "cell_type": "markdown",
   "metadata": {},
   "source": [
    "## load ground truth OOD detection result"
   ]
  },
  {
   "cell_type": "code",
   "execution_count": null,
   "metadata": {},
   "outputs": [],
   "source": [
    "# plot ground truth vacuity map\n",
    "vacuity_scores_gd = np.zeros_like(data.labeled_indices)\n",
    "vacuity_scores_gd[data.ood_mask] = 1  \n",
    "vacuity_2D = np.zeros((datasetinfo.m, datasetinfo.n))\n",
    "vacuity_1D = vacuity_2D.reshape(-1,)\n",
    "vacuity_1D[data.labeled_indices] = vacuity_scores_gd\n",
    "# np.count_nonzero(vacuity_1D)\n",
    "vacuity_list.append(vacuity_1D)"
   ]
  },
  {
   "cell_type": "markdown",
   "metadata": {},
   "source": [
    "## load anomaly detection result"
   ]
  },
  {
   "cell_type": "code",
   "execution_count": null,
   "metadata": {},
   "outputs": [],
   "source": [
    "# TLRSR\n",
    "anomaly_score = scio.loadmat(os.path.join('anomaly_detection', 'code-for-PCA-TLRSR', f'{dataset}_result', f'{TLRSR_file}.mat'))['anomaly_score']\n",
    "anomaly_score_1D = np.float32(anomaly_score.reshape(-1,))\n",
    "vacuity_2D = np.zeros((datasetinfo.m, datasetinfo.n))\n",
    "vacuity_1D = vacuity_2D.reshape(-1,)\n",
    "vacuity_1D[data.labeled_indices] = anomaly_score_1D[data.labeled_indices]\n",
    "vacuity_list.append(vacuity_1D)\n",
    "# RGAE \n",
    "anomaly_score = scio.loadmat(os.path.join('anomaly_detection', 'Hyperspectral-anomaly-detection-with-RGAE-main', f'{dataset}_result', f'{RGAE_file}.mat'))['y']\n",
    "anomaly_score_1D = np.float32(anomaly_score.reshape(-1,))\n",
    "anomaly_score_1D = anomaly_score_1D/np.max(anomaly_score_1D)\n",
    "vacuity_2D = np.zeros((datasetinfo.m, datasetinfo.n))\n",
    "vacuity_1D = vacuity_2D.reshape(-1,)\n",
    "vacuity_1D[data.labeled_indices] = anomaly_score_1D[data.labeled_indices]\n",
    "vacuity_list.append(vacuity_1D)"
   ]
  },
  {
   "cell_type": "markdown",
   "metadata": {},
   "source": [
    "## load saved model with predicted alpha vector"
   ]
  },
  {
   "cell_type": "code",
   "execution_count": null,
   "metadata": {},
   "outputs": [],
   "source": [
    "def to_1D_vacuity(alpha, data, num_classes, dataset):\n",
    "    datasetinfo = DatasetInfo(dataset)\n",
    "    m, n = datasetinfo.m , datasetinfo.n\n",
    "    alpha_0_dim = alpha.sum(axis=-1,keepdims=True)\n",
    "    vacuity_score = num_classes/alpha_0_dim\n",
    "    vacuity = np.zeros((m,n)).reshape(-1,)\n",
    "    vacuity[data.labeled_indices] = vacuity_score.flatten()\n",
    "    return vacuity"
   ]
  },
  {
   "cell_type": "code",
   "execution_count": null,
   "metadata": {},
   "outputs": [],
   "source": [
    "config['model']['model_name'] = 'GCNExp'\n",
    "model = DBU_OOD(config=config, data= data, num_classes = num_classes, device='cuda')\n",
    "\n",
    "for file in GKDE_files:\n",
    "    save_folder = os.path.join(config['data']['dataset'], config['data']['dataset']+ '_' + str(config['data']['ood_left_out_classes']))\n",
    "\n",
    "    # params_version = f'-{config[\"model\"][\"seed\"]}'\n",
    "    # save_name = f'{config[\"model\"][\"model_name\"]}_{config[\"model\"][\"uce_loss_weight\"]}_{config[\"model\"][\"reconstruction_reg_weight\"]}_{config[\"model\"][\"tv_vacuity_reg_weight\"]}'\n",
    "    # filename = save_name+'-'+params_version\n",
    "\n",
    "    model = DBU_OOD.load_from_checkpoint(os.path.join(root, save_folder, file), \n",
    "                                                            config=config, \n",
    "                                                            data= data, \n",
    "                                                            num_classes = num_classes, \n",
    "                                                            device='cuda')\n",
    "    # disable randomness, dropout, etc...\n",
    "    model.eval()\n",
    "    # predict with the model\n",
    "    alpha = model.gnn(data).detach().cpu()\n",
    "    vacuity = to_1D_vacuity(alpha, data.cpu(), num_classes, dataset)\n",
    "    vacuity_list.append(vacuity)"
   ]
  },
  {
   "cell_type": "code",
   "execution_count": null,
   "metadata": {},
   "outputs": [],
   "source": [
    "config['model']['model_name'] = 'GPN'\n",
    "model = GPN_OOD(config=config, data= data, num_classes = num_classes, device='cuda')\n",
    "\n",
    "for file in GPN_files:\n",
    "    save_folder = os.path.join(config['data']['dataset'], config['data']['dataset']+ '_' + str(config['data']['ood_left_out_classes']))\n",
    "\n",
    "    # params_version = f'-{config[\"model\"][\"seed\"]}'\n",
    "    # save_name = f'{config[\"model\"][\"model_name\"]}_{config[\"model\"][\"uce_loss_weight\"]}_{config[\"model\"][\"reconstruction_reg_weight\"]}_{config[\"model\"][\"tv_vacuity_reg_weight\"]}'\n",
    "    # filename = save_name+'-'+params_version\n",
    "\n",
    "    model = GPN_OOD.load_from_checkpoint(os.path.join(root, save_folder, file), \n",
    "                                                            config=config, \n",
    "                                                            data= data, \n",
    "                                                            num_classes = num_classes, \n",
    "                                                            device='cuda')\n",
    "    # disable randomness, dropout, etc...\n",
    "    model.eval()\n",
    "    # predict with the model\n",
    "    alpha = model.gnn(data).detach().cpu()\n",
    "    vacuity = to_1D_vacuity(alpha, data.cpu(), num_classes, dataset)\n",
    "    vacuity_list.append(vacuity)"
   ]
  },
  {
   "cell_type": "markdown",
   "metadata": {},
   "source": [
    "## plot the vacuity map"
   ]
  },
  {
   "cell_type": "code",
   "execution_count": null,
   "metadata": {},
   "outputs": [],
   "source": [
    "import matplotlib.pyplot as plt\n",
    "import numpy as np\n",
    "\n",
    "# Create subplots\n",
    "fig, axes = plt.subplots(nrows=3, ncols=3, figsize=(10, 20))\n",
    "\n",
    "# Plot heatmaps for each model\n",
    "for i in range(9):\n",
    "    vacuity_1D = vacuity_list[i]\n",
    "    vacuity = vacuity_1D.reshape(datasetinfo.m, datasetinfo.n)\n",
    "    # Determine the row and column for the subplot\n",
    "    row = i // 3\n",
    "    col = i % 3\n",
    "    \n",
    "    # Plot heatmap\n",
    "    im = axes[row, col].imshow(vacuity, cmap='viridis')\n",
    "    \n",
    "    # Set title\n",
    "    axes[row, col].set_title(model_names[i], fontsize=15)\n",
    "    \n",
    "    # Add colorbar\n",
    "    fig.colorbar(im, ax=axes[row, col], orientation='vertical')\n",
    "\n",
    "# Adjust layout\n",
    "plt.tight_layout()\n",
    "# fig.subplots_adjust(hspace=0.1)\n",
    "plt.savefig(f'./plots/vacuity_{dataset}_{ood}.pdf')\n",
    "plt.show()\n"
   ]
  },
  {
   "cell_type": "markdown",
   "metadata": {},
   "source": [
    "## plot the ROC and PR comparision"
   ]
  },
  {
   "cell_type": "code",
   "execution_count": null,
   "metadata": {},
   "outputs": [],
   "source": [
    "# plot ROC and PR comparision\n",
    "\n",
    "# get the ground truth\n",
    "id_mask = data.id_test_mask\n",
    "ood_mask = data.ood_test_mask\n",
    "mask = ood_mask | id_mask\n",
    "corrects = ood_mask"
   ]
  },
  {
   "cell_type": "code",
   "execution_count": null,
   "metadata": {},
   "outputs": [],
   "source": [
    "color_map = {\n",
    "    0: '#1f77b4',  # Muted blue\n",
    "    1: '#ff7f0e',  # Safety orange\n",
    "    2: '#2ca02c',  # Cooked asparagus green\n",
    "    3: '#d62728',  # Brick red\n",
    "    4: '#9467bd',  # Muted purple\n",
    "    5: '#8c564b',  # Chestnut brown\n",
    "    6: '#e377c2',  # Raspberry yogurt pink\n",
    "    7: '#7f7f7f',  # Middle gray\n",
    "    8: '#bcbd22'   # Curry yellow-green\n",
    "}\n",
    "marker_list = [\".\", \"v\", \"d\", \"4\",\"*\"]"
   ]
  },
  {
   "cell_type": "code",
   "execution_count": null,
   "metadata": {},
   "outputs": [],
   "source": [
    "import matplotlib.pyplot as plt\n",
    "\n",
    "# Create subplots\n",
    "fig, axes = plt.subplots(nrows=1, ncols=2, figsize=(12, 6))\n",
    "roc_ax, pr_ax = axes\n",
    "\n",
    "# Set subplot titles\n",
    "roc_ax.set_title('ROC Curve')\n",
    "pr_ax.set_title('PR Curve')\n",
    "\n",
    "# Compute and plot ROC and PR curves for each model\n",
    "for i in range(1,6):\n",
    "    name = model_names[i]\n",
    "    vacuity_score = vacuity_list[i][data.labeled_indices]\n",
    "    \n",
    "    # ROC values\n",
    "    fpr, tpr, _ = roc_curve(corrects[mask], vacuity_score[mask])\n",
    "    roc_ax.plot(fpr, tpr, label=f'{name} - {auc(fpr, tpr):.4f}', color=color_map[i],linewidth=3 )\n",
    "                # marker = marker_list[i-1], markersize = 5)\n",
    "    \n",
    "    # PR values\n",
    "    precision, recall, _ = precision_recall_curve(corrects[mask], vacuity_score[mask])\n",
    "    pr_ax.plot(recall, precision, label=f'{name} - {auc(recall, precision):.4f}', color=color_map[i], linewidth=3)\n",
    "                    # marker = marker_list[i-1], markersize = 5)\n",
    "\n",
    "# Set labels and legends\n",
    "roc_ax.set_xlabel('False Positive Rate')\n",
    "roc_ax.set_ylabel('True Positive Rate')\n",
    "roc_ax.legend(loc = 'center')\n",
    "\n",
    "pr_ax.set_xlabel('Recall')\n",
    "pr_ax.set_ylabel('Precision')\n",
    "pr_ax.legend(loc = 'center')\n",
    "\n",
    "# Display the plots\n",
    "plt.tight_layout()\n",
    "fig.subplots_adjust(wspace=0.2)\n",
    "plt.savefig(f'./plots/rocpr_{dataset}_{ood}.pdf')\n",
    "plt.show()"
   ]
  },
  {
   "cell_type": "code",
   "execution_count": null,
   "metadata": {},
   "outputs": [],
   "source": []
  },
  {
   "cell_type": "markdown",
   "metadata": {},
   "source": [
    "## plot the single abundance map"
   ]
  },
  {
   "cell_type": "code",
   "execution_count": null,
   "metadata": {},
   "outputs": [],
   "source": [
    "# submodel = 'test'\n",
    "# fig = plot_abundance(alpha, data.cpu(), num_classes, dataset)    \n",
    "# fig.update_layout(title_text=f'Abundance map: {dataset}-{ood}-{submodel}')\n",
    "# fig.show()"
   ]
  },
  {
   "cell_type": "markdown",
   "metadata": {},
   "source": [
    "## plot the single vacuity map"
   ]
  },
  {
   "cell_type": "code",
   "execution_count": null,
   "metadata": {},
   "outputs": [],
   "source": [
    "# fig = plot_vacuity(alpha, data, num_classes, dataset)\n",
    "# fig.update_layout(title_text=f'Vacuity_map: {dataset}-{ood}-{submodel}')"
   ]
  },
  {
   "cell_type": "markdown",
   "metadata": {},
   "source": [
    "## check the UR improvement"
   ]
  },
  {
   "cell_type": "code",
   "execution_count": null,
   "metadata": {},
   "outputs": [],
   "source": [
    "dataset = 'paviaU'\n",
    "ood = 8\n",
    "# GKDE_files = ['runs-ood-GCNExp/GCNExp_1_0.01_0-222-v1.ckpt', 'runs-ood-GCNExp-UR/GCNExp_1_0_0-444-v1.ckpt']\n",
    "file = 'runs-ood-GCNExp/GCNExp_1_0_0-222-v1.ckpt'\n",
    "config['model']['model_name'] = 'GCNExp'\n",
    "model = DBU_OOD(config=config, data= data, num_classes = num_classes, device='cuda')\n",
    "\n",
    "save_folder = os.path.join(config['data']['dataset'], config['data']['dataset']+ '_' + str(config['data']['ood_left_out_classes']))\n",
    "\n",
    "# params_version = f'-{config[\"model\"][\"seed\"]}'\n",
    "# save_name = f'{config[\"model\"][\"model_name\"]}_{config[\"model\"][\"uce_loss_weight\"]}_{config[\"model\"][\"reconstruction_reg_weight\"]}_{config[\"model\"][\"tv_vacuity_reg_weight\"]}'\n",
    "# filename = save_name+'-'+params_version\n",
    "\n",
    "model = DBU_OOD.load_from_checkpoint(os.path.join(root, save_folder, file), \n",
    "                                                        config=config, \n",
    "                                                        data= data, \n",
    "                                                        num_classes = num_classes, \n",
    "                                                        device='cuda')\n",
    "# disable randomness, dropout, etc...\n",
    "model.eval()\n",
    "# predict with the model\n",
    "alpha = model.gnn(data).detach().cpu()\n",
    "submodel = 'UCE'\n",
    "fig = plot_abundance(alpha, data.cpu(), num_classes, dataset)    \n",
    "fig.update_layout(title_text=f'Abundance map: {dataset}-{ood}-{submodel}')\n",
    "fig.show()\n",
    "fig = plot_vacuity(alpha, data, num_classes, dataset)\n",
    "fig.update_layout(title_text=f'Vacuity_map: {dataset}-{ood}-{submodel}')\n",
    "fig.show()\n"
   ]
  },
  {
   "cell_type": "code",
   "execution_count": null,
   "metadata": {},
   "outputs": [],
   "source": [
    "dataset = 'paviaU'\n",
    "ood = 8\n",
    "# GKDE_files = ['runs-ood-GCNExp/GCNExp_1_0.01_0-222-v1.ckpt', 'runs-ood-GCNExp-UR/GCNExp_1_0_0-444-v1.ckpt']\n",
    "file = 'runs-ood-GCNExp-TV/GCNExp_1_0_1e-05-222-v1.ckpt'\n",
    "config['model']['model_name'] = 'GCNExp'\n",
    "model = DBU_OOD(config=config, data= data, num_classes = num_classes, device='cuda')\n",
    "\n",
    "save_folder = os.path.join(config['data']['dataset'], config['data']['dataset']+ '_' + str(config['data']['ood_left_out_classes']))\n",
    "\n",
    "# params_version = f'-{config[\"model\"][\"seed\"]}'\n",
    "# save_name = f'{config[\"model\"][\"model_name\"]}_{config[\"model\"][\"uce_loss_weight\"]}_{config[\"model\"][\"reconstruction_reg_weight\"]}_{config[\"model\"][\"tv_vacuity_reg_weight\"]}'\n",
    "# filename = save_name+'-'+params_version\n",
    "\n",
    "model = DBU_OOD.load_from_checkpoint(os.path.join(root, save_folder, file), \n",
    "                                                        config=config, \n",
    "                                                        data= data, \n",
    "                                                        num_classes = num_classes, \n",
    "                                                        device='cuda')\n",
    "# disable randomness, dropout, etc...\n",
    "model.eval()\n",
    "# predict with the model\n",
    "alpha = model.gnn(data).detach().cpu()\n",
    "submodel = 'TV'\n",
    "fig = plot_abundance(alpha, data.cpu(), num_classes, dataset)    \n",
    "fig.update_layout(title_text=f'Abundance map: {dataset}-{ood}-{submodel}')\n",
    "fig.show()\n",
    "fig = plot_vacuity(alpha, data, num_classes, dataset)\n",
    "fig.update_layout(title_text=f'Vacuity_map: {dataset}-{ood}-{submodel}')\n",
    "fig.show()"
   ]
  },
  {
   "cell_type": "markdown",
   "metadata": {},
   "source": [
    "## plot the ROC/PR plots for the alpha teacher"
   ]
  },
  {
   "cell_type": "code",
   "execution_count": null,
   "metadata": {},
   "outputs": [],
   "source": [
    "vacuity_list = []\n",
    "# plot ground truth vacuity map\n",
    "vacuity_scores_gd = np.zeros_like(data.labeled_indices)\n",
    "vacuity_scores_gd[data.ood_mask] = 1  \n",
    "vacuity_2D = np.zeros((datasetinfo.m, datasetinfo.n))\n",
    "vacuity_1D = vacuity_2D.reshape(-1,)\n",
    "vacuity_1D[data.labeled_indices] = vacuity_scores_gd\n",
    "# np.count_nonzero(vacuity_1D)\n",
    "vacuity_list.append(vacuity_1D)\n",
    "# plot alpha prior\n",
    "sigma_list = [0.1, 0.2, 0.5,1,2,5,10]\n",
    "for sigma in sigma_list:\n",
    "    alpha_prior = torch.load(f'teacher/alpha_prior_tuning/alpha_teacher_{config[\"data\"][\"dataset\"]}_{config[\"data\"][\"ood_left_out_classes\"][0]}_{sigma}.pt')\n",
    "    vacuity = to_1D_vacuity(alpha_prior, data, num_classes, dataset)\n",
    "    vacuity_list.append(vacuity)"
   ]
  },
  {
   "cell_type": "code",
   "execution_count": null,
   "metadata": {},
   "outputs": [],
   "source": [
    "import matplotlib.pyplot as plt\n",
    "import numpy as np\n",
    "\n",
    "model_names = {0: 'Ground truth'}\n",
    "model_names.update({i+1: f'sigma = {sigma_list[i]}' for i in range(len(sigma_list))})\n",
    "# Create subplots\n",
    "fig, axes = plt.subplots(nrows=2, ncols=4, figsize=(15, 10))\n",
    "\n",
    "# Plot heatmaps for each model\n",
    "for i in range(8):\n",
    "    vacuity_1D = vacuity_list[i]\n",
    "    vacuity = vacuity_1D.reshape(datasetinfo.m, datasetinfo.n)\n",
    "    # Determine the row and column for the subplot\n",
    "    row = i // 4\n",
    "    col = i % 4\n",
    "    \n",
    "    # Plot heatmap\n",
    "    im = axes[row, col].imshow(vacuity, cmap='viridis')\n",
    "    \n",
    "    # Set title\n",
    "    axes[row, col].set_title(model_names[i], fontsize=15)\n",
    "    \n",
    "    # Add colorbar\n",
    "    fig.colorbar(im, ax=axes[row, col], orientation='vertical')\n",
    "\n",
    "# Adjust layout\n",
    "plt.tight_layout()\n",
    "# fig.subplots_adjust(hspace=0.1)\n",
    "plt.savefig(f'./plots/vacuity_{dataset}_{ood}_alpha_prior.pdf')\n",
    "plt.show()"
   ]
  },
  {
   "cell_type": "code",
   "execution_count": null,
   "metadata": {},
   "outputs": [],
   "source": [
    "import matplotlib.pyplot as plt\n",
    "\n",
    "# Create subplots\n",
    "fig, axes = plt.subplots(nrows=1, ncols=2, figsize=(12, 6))\n",
    "roc_ax, pr_ax = axes\n",
    "\n",
    "# Set subplot titles\n",
    "roc_ax.set_title('ROC Curve')\n",
    "pr_ax.set_title('PR Curve')\n",
    "\n",
    "# Compute and plot ROC and PR curves for each model\n",
    "for i in range(1,8):\n",
    "    name = model_names[i]\n",
    "    vacuity_score = vacuity_list[i][data.labeled_indices]\n",
    "    \n",
    "    # ROC values\n",
    "    fpr, tpr, _ = roc_curve(corrects[mask], vacuity_score[mask])\n",
    "    roc_ax.plot(fpr, tpr, label=f'{name} - {auc(fpr, tpr):.4f}', color=color_map[i])\n",
    "    \n",
    "    # PR values\n",
    "    precision, recall, _ = precision_recall_curve(corrects[mask], vacuity_score[mask])\n",
    "    pr_ax.plot(recall, precision, label=f'{name} - {auc(recall, precision):.4f}', color=color_map[i])\n",
    "\n",
    "# Set labels and legends\n",
    "roc_ax.set_xlabel('False Positive Rate')\n",
    "roc_ax.set_ylabel('True Positive Rate')\n",
    "roc_ax.legend()\n",
    "\n",
    "pr_ax.set_xlabel('Recall')\n",
    "pr_ax.set_ylabel('Precision')\n",
    "pr_ax.legend()\n",
    "\n",
    "# Display the plots\n",
    "plt.tight_layout()\n",
    "fig.subplots_adjust(wspace=0.2)\n",
    "plt.savefig(f'./plots/rocpr_{dataset}_{ood}_alpha_prior.pdf')\n",
    "plt.show()"
   ]
  },
  {
   "cell_type": "code",
   "execution_count": null,
   "metadata": {},
   "outputs": [],
   "source": []
  }
 ],
 "metadata": {
  "kernelspec": {
   "display_name": "torch2",
   "language": "python",
   "name": "python3"
  },
  "language_info": {
   "codemirror_mode": {
    "name": "ipython",
    "version": 3
   },
   "file_extension": ".py",
   "mimetype": "text/x-python",
   "name": "python",
   "nbconvert_exporter": "python",
   "pygments_lexer": "ipython3",
   "version": "3.9.16"
  },
  "orig_nbformat": 4
 },
 "nbformat": 4,
 "nbformat_minor": 2
}
